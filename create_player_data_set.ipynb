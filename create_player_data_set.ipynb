{
 "cells": [
  {
   "cell_type": "markdown",
   "metadata": {},
   "source": [
    "create a random player data set\n",
    "\n",
    "define major and minor grades players might be in"
   ]
  },
  {
   "cell_type": "code",
   "execution_count": 19,
   "metadata": {},
   "outputs": [
    {
     "name": "stdout",
     "output_type": "stream",
     "text": [
      "number of teams in comp 25\n",
      "number of players in comp :200\n"
     ]
    }
   ],
   "source": [
    "# defines the age groups in a competition\n",
    "major_grades = [\"12\", \"13\", \"14\", \"15\", \"Cadets\", \"Senior\"]\n",
    "\n",
    "# defines the skill level in a competition by age grade\n",
    "minor_grades = {\n",
    "    major_grades[0]: [\"A\", \"B\", \"C\", \"D\", \"E\", \"F\"],  # 12\n",
    "    major_grades[1]: [\"A\", \"B\", \"C\", \"D\", \"E\", \"F\"],  # 13\n",
    "    major_grades[2]: [\"A\", \"B\", \"C\", \"D\",], # 14\n",
    "    major_grades[3]: [\"A\",\"B\",\"C\",\"D\",], # 15\n",
    "    major_grades[4]: [\"1\", \"4\", \"5\"],\n",
    "    major_grades[5]: [\"1\",\"3\"],\n",
    "}\n",
    "\n",
    "# number of players per team\n",
    "number_of_team_members  = 8\n",
    "\n",
    "# establish number of teams in com\n",
    "test_number_of_teams = 0\n",
    "# get the number of teams:\n",
    "for key,value in minor_grades.items():\n",
    "    test_number_of_teams += len(value)\n",
    "print (f\"number of teams in comp {test_number_of_teams}\")\n",
    "\n",
    "# this is the number of players in the comp\n",
    "test_number_of_player = test_number_of_teams * number_of_team_members\n",
    "print(f\"number of players in comp :{test_number_of_player}\")"
   ]
  },
  {
   "cell_type": "markdown",
   "metadata": {},
   "source": [
    "create player data set\n"
   ]
  },
  {
   "cell_type": "code",
   "execution_count": 31,
   "metadata": {},
   "outputs": [
    {
     "name": "stdout",
     "output_type": "stream",
     "text": [
      "players 200\n",
      "minor grade counter: 25\n"
     ]
    }
   ],
   "source": [
    "players = []\n",
    "# loop over major grades\n",
    "major_grade_counter = 0\n",
    "minor_grade_counter = 0\n",
    "# loop over minor grades per major grade\n",
    "for key, min_grade in minor_grades.items():\n",
    "    teams_by_grade = []\n",
    "    # loop over all minor grades in one age group\n",
    "    for grade in min_grade:\n",
    "        minor_grade_counter += 1\n",
    "        # create player for the team\n",
    "        for i in range(number_of_team_members):\n",
    "            player = [f\"surname_{i}_age_{key}_grade_{grade}\", f\"first_name_{i}\"]\n",
    "            players.append(player)\n",
    "\n",
    "print(f\"players {len(players)}\")\n",
    "print(f\"minor grade counter: {minor_grade_counter}\")\n",
    "\n",
    "try:\n",
    "    assert len(players) == test_number_of_player\n",
    "except:\n",
    "    print (f\"Failed to generate all player data: data set {len(players)} vs {test_number_of_player}\")\n",
    "\n",
    "try:\n",
    "    assert minor_grade_counter == test_number_of_teams\n",
    "except:\n",
    "    print(f\"number of teams in data set {minor_grade_counter} vs {test_number_of_teams}\")"
   ]
  },
  {
   "cell_type": "code",
   "execution_count": null,
   "metadata": {},
   "outputs": [],
   "source": []
  }
 ],
 "metadata": {
  "kernelspec": {
   "display_name": "Python 3",
   "language": "python",
   "name": "python3"
  },
  "language_info": {
   "codemirror_mode": {
    "name": "ipython",
    "version": 3
   },
   "file_extension": ".py",
   "mimetype": "text/x-python",
   "name": "python",
   "nbconvert_exporter": "python",
   "pygments_lexer": "ipython3",
   "version": "3.10.4"
  }
 },
 "nbformat": 4,
 "nbformat_minor": 2
}
