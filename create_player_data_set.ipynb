{
 "cells": [
  {
   "cell_type": "markdown",
   "metadata": {},
   "source": [
    "create a random player data set\n",
    "\n",
    "define major and minor grades players might be in"
   ]
  },
  {
   "cell_type": "code",
   "execution_count": 1,
   "metadata": {},
   "outputs": [
    {
     "name": "stdout",
     "output_type": "stream",
     "text": [
      "number of teams in comp 25\n",
      "number of players in comp :200\n"
     ]
    }
   ],
   "source": [
    "# defines the age groups in a competition\n",
    "MAJOR_GRADES = [\"12\", \"13\", \"14\", \"15\", \"Cadets\", \"Senior\"]\n",
    "\n",
    "# defines the skill level in a competition by age grade\n",
    "MINOR_GRADES = {\n",
    "    MAJOR_GRADES[0]: [\"A\", \"B\", \"C\", \"D\", \"E\", \"F\"],  # 12\n",
    "    MAJOR_GRADES[1]: [\"A\", \"B\", \"C\", \"D\", \"E\", \"F\"],  # 13\n",
    "    MAJOR_GRADES[2]: [\"A\", \"B\", \"C\", \"D\",], # 14\n",
    "    MAJOR_GRADES[3]: [\"A\",\"B\",\"C\",\"D\",], # 15\n",
    "    MAJOR_GRADES[4]: [\"1\", \"4\", \"5\"],\n",
    "    MAJOR_GRADES[5]: [\"1\",\"3\"],\n",
    "}\n",
    "\n",
    "# number of players per team\n",
    "number_of_team_members  = 8\n",
    "\n",
    "# establish number of teams in com\n",
    "test_number_of_teams = 0\n",
    "# get the number of teams:\n",
    "for key,value in MINOR_GRADES.items():\n",
    "    test_number_of_teams += len(value)\n",
    "print (f\"number of teams in comp {test_number_of_teams}\")\n",
    "\n",
    "# this is the number of players in the comp\n",
    "test_number_of_player = test_number_of_teams * number_of_team_members\n",
    "print(f\"number of players in comp :{test_number_of_player}\")"
   ]
  },
  {
   "cell_type": "markdown",
   "metadata": {},
   "source": [
    "create player data set\n"
   ]
  },
  {
   "cell_type": "code",
   "execution_count": 2,
   "metadata": {},
   "outputs": [
    {
     "name": "stdout",
     "output_type": "stream",
     "text": [
      "players 200\n",
      "minor grade counter: 25\n"
     ]
    }
   ],
   "source": [
    "players = []\n",
    "# loop over major grades\n",
    "major_grade_counter = 0\n",
    "minor_grade_counter = 0\n",
    "# loop over minor grades per major grade\n",
    "for key, min_grade in MINOR_GRADES.items():\n",
    "    teams_by_grade = []\n",
    "    # loop over all minor grades in one age group\n",
    "    for grade in min_grade:\n",
    "        minor_grade_counter += 1\n",
    "        # create player for the team\n",
    "        for i in range(number_of_team_members):\n",
    "            player = [f\"surname_{i}_age_{key}_grade_{grade}\", f\"first_name_{i}\"]\n",
    "            players.append(player)\n",
    "\n",
    "print(f\"players {len(players)}\")\n",
    "print(f\"minor grade counter: {minor_grade_counter}\")\n",
    "\n",
    "try:\n",
    "    assert len(players) == test_number_of_player\n",
    "except:\n",
    "    print (f\"Failed to generate all player data: data set {len(players)} vs {test_number_of_player}\")\n",
    "\n",
    "try:\n",
    "    assert minor_grade_counter == test_number_of_teams\n",
    "except:\n",
    "    print(f\"number of teams in data set {minor_grade_counter} vs {test_number_of_teams}\")"
   ]
  },
  {
   "cell_type": "markdown",
   "metadata": {},
   "source": [
    "create games data"
   ]
  },
  {
   "cell_type": "code",
   "execution_count": 3,
   "metadata": {},
   "outputs": [],
   "source": [
    "import datetime\n",
    "\n",
    "# days on which the comp is on\n",
    "GAME_DATES = [\n",
    "    datetime.date(2024, 4, 6),\n",
    "    datetime.date(2024, 4, 13),\n",
    "    datetime.date(2024, 4, 27),\n",
    "    datetime.date(2024, 5, 4),\n",
    "    datetime.date(2024, 5, 11),\n",
    "    datetime.date(2024, 5, 18),\n",
    "    datetime.date(2024, 5, 25),\n",
    "    datetime.date(2024, 6, 1),\n",
    "    datetime.date(2024, 6, 15),\n",
    "    datetime.date(2024, 6, 22),\n",
    "    datetime.date(2024, 6, 29),\n",
    "    datetime.date(2024, 7, 27),\n",
    "    datetime.date(2024, 8, 3),\n",
    "    datetime.date(2024, 8, 10),\n",
    "]"
   ]
  }
 ],
 "metadata": {
  "kernelspec": {
   "display_name": "Python 3",
   "language": "python",
   "name": "python3"
  },
  "language_info": {
   "codemirror_mode": {
    "name": "ipython",
    "version": 3
   },
   "file_extension": ".py",
   "mimetype": "text/x-python",
   "name": "python",
   "nbconvert_exporter": "python",
   "pygments_lexer": "ipython3",
   "version": "3.10.4"
  }
 },
 "nbformat": 4,
 "nbformat_minor": 2
}
